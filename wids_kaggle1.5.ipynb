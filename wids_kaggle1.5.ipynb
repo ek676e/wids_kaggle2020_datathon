{
 "cells": [
  {
   "cell_type": "code",
   "execution_count": 271,
   "metadata": {},
   "outputs": [],
   "source": [
    "import pandas as pd\n",
    "import numpy as np\n",
    "import seaborn as sns\n",
    "import matplotlib.pyplot as plt\n",
    "from matplotlib import pyplot as plt\n",
    "from sklearn import preprocessing\n",
    "from sklearn.preprocessing import FunctionTransformer,PolynomialFeatures\n",
    "from sklearn.model_selection import train_test_split\n",
    "from xgboost import XGBClassifier, plot_importance\n",
    "from sklearn.naive_bayes import GaussianNB\n",
    "from sklearn.linear_model import LogisticRegression\n",
    "from sklearn.neighbors import KNeighborsClassifier\n",
    "from sklearn.tree import DecisionTreeClassifier\n",
    "from sklearn.ensemble import (ExtraTreesClassifier,RandomForestClassifier,GradientBoostingClassifier,BaggingClassifier,\n",
    "AdaBoostClassifier)\n",
    "from sklearn.metrics import accuracy_score,roc_auc_score\n",
    "from sklearn.discriminant_analysis import LinearDiscriminantAnalysis\n",
    "from sklearn.decomposition import PCA\n",
    "from imblearn.over_sampling import SMOTE\n",
    "import warnings\n",
    "from sklearn.preprocessing import LabelEncoder\n",
    "from lightgbm import LGBMClassifier\n",
    "import lightgbm as lgb\n",
    "from sklearn import preprocessing, model_selection\n",
    "from sklearn.model_selection import GridSearchCV\n",
    "warnings.filterwarnings('ignore')\n",
    "\n",
    "%matplotlib inline\n",
    "\n",
    "#set seed for reproducibility\n",
    "np.random.seed(0) \n",
    "random_state = 42"
   ]
  },
  {
   "cell_type": "code",
   "execution_count": 213,
   "metadata": {},
   "outputs": [],
   "source": [
    "#raw data\n",
    "train = pd.read_csv('training_v2.csv')\n",
    "test = pd.read_csv('unlabeled.csv.zip') #data without hopsital_death values (all nulls)"
   ]
  },
  {
   "cell_type": "markdown",
   "metadata": {},
   "source": [
    "## Preprocessing for Training Dataset "
   ]
  },
  {
   "cell_type": "code",
   "execution_count": 214,
   "metadata": {},
   "outputs": [],
   "source": [
    "#Imputation for missing values for categorical variable \n",
    "cat = train.select_dtypes(include=['object']).apply(lambda x: x.fillna(x.value_counts().index[0]))\n",
    "\n",
    "#Mean Encoding for categorical variables \n",
    "target = train['hospital_death']\n",
    "cat1 = pd.concat([cat,target], axis=1, sort=False)\n",
    "for header in cat1.columns:\n",
    "    if header != 'hospital_death':\n",
    "        means = cat1.groupby(header)['hospital_death'].mean()\n",
    "        cat1[header] = cat1[header].map(means)\n",
    "\n",
    "#Additive smoothing (regularization technique to avoid overfitting)\n",
    "def calc_smooth_mean(df, by, on, m):\n",
    "    # Compute the global mean\n",
    "    mean = df[on].mean()\n",
    "\n",
    "    # Compute the number of values and the mean of each group\n",
    "    agg = df.groupby(by)[on].agg(['count', 'mean'])\n",
    "    counts = agg['count']\n",
    "    means = agg['mean']\n",
    "\n",
    "    # Compute the \"smoothed\" means\n",
    "    smooth = (counts * means + m * mean) / (counts + m)\n",
    "\n",
    "    # Replace each value by the according smoothed mean\n",
    "    return df[by].map(smooth)\n",
    "\n",
    "for header in cat1.columns:\n",
    "    if header != 'hospital_death':\n",
    "        cat1[header] = calc_smooth_mean(cat1, by=header, on='hospital_death', m=10)\n",
    "\n",
    "#Imputation for missing values for numerical variable \n",
    "hosp_death = train['hospital_death']\n",
    "data_nolabel = train.drop('hospital_death', axis=1)\n",
    "num = data_nolabel.select_dtypes(include=['float64','int64'])\n",
    "num = num.fillna(num.mean())\n",
    "\n",
    "#putting back cat and num features together\n",
    "imputed_train_data = pd.concat([num,cat1], axis=1, sort=False)"
   ]
  },
  {
   "cell_type": "markdown",
   "metadata": {},
   "source": [
    "## Preprocessing for testing dataset "
   ]
  },
  {
   "cell_type": "code",
   "execution_count": 277,
   "metadata": {},
   "outputs": [],
   "source": [
    "#Imputation for missing values for categorical variable \n",
    "cat_test = test.select_dtypes(include=['object']).apply(lambda x: x.fillna(x.value_counts().index[0]))\n",
    "\n",
    "#label encoding \n",
    "le = LabelEncoder()\n",
    "for col in cat_test.columns:\n",
    "    cat_test[col] = le.fit_transform(cat_test[col])\n",
    "norm = pd.DataFrame(preprocessing.Normalizer().fit_transform(cat_test),columns=cat_test.columns)\n",
    "\n",
    "#Imputation for missing values for numerical variable \n",
    "hosp_death_test = test['hospital_death']\n",
    "data_nolabel_test = test.drop('hospital_death', axis=1)\n",
    "num_test = data_nolabel_test.select_dtypes(include=['float64','int64'])\n",
    "num_test = num_test.fillna(num_test.mean())"
   ]
  },
  {
   "cell_type": "code",
   "execution_count": 278,
   "metadata": {},
   "outputs": [],
   "source": [
    "#putting back cat and num features together\n",
    "imputed_test = pd.concat([num_test,norm], axis=1, sort=False)\n",
    "x_testing = imputed_test.drop(['encounter_id', 'patient_id', 'hospital_id'], axis=1).copy()"
   ]
  },
  {
   "cell_type": "markdown",
   "metadata": {},
   "source": [
    "## Final Dataset"
   ]
  },
  {
   "cell_type": "code",
   "execution_count": 279,
   "metadata": {},
   "outputs": [],
   "source": [
    "final_data = imputed_train_data.sample(frac=1).reset_index(drop=True) #shuffle the data\n",
    "x_training = final_data.drop(['encounter_id', 'patient_id', 'hospital_id','hospital_death'], axis=1).copy()\n",
    "y_training = final_data['hospital_death']\n",
    "\n",
    "#Over Sampling to solve output class imbalance problem\n",
    "# sm = SMOTE(random_state=random_state)\n",
    "# X_training, y_trainings = sm.fit_sample(x_training,y_training)\n",
    "\n",
    "# X_train = x_training.copy()\n",
    "# y_train = y_training.copy()\n",
    "# X_test = x_testing.copy()\n",
    "\n",
    "#Data Partition\n",
    "X_train, X_test, y_train, y_test = train_test_split(x_training, y_training,test_size = 0.2, random_state=random_state)"
   ]
  },
  {
   "cell_type": "markdown",
   "metadata": {},
   "source": [
    "## Model Building "
   ]
  },
  {
   "cell_type": "code",
   "execution_count": 281,
   "metadata": {},
   "outputs": [
    {
     "name": "stdout",
     "output_type": "stream",
     "text": [
      "CPU times: user 1min 11s, sys: 771 ms, total: 1min 11s\n",
      "Wall time: 59.4 s\n"
     ]
    },
    {
     "data": {
      "text/html": [
       "<div>\n",
       "<style scoped>\n",
       "    .dataframe tbody tr th:only-of-type {\n",
       "        vertical-align: middle;\n",
       "    }\n",
       "\n",
       "    .dataframe tbody tr th {\n",
       "        vertical-align: top;\n",
       "    }\n",
       "\n",
       "    .dataframe thead th {\n",
       "        text-align: right;\n",
       "    }\n",
       "</style>\n",
       "<table border=\"1\" class=\"dataframe\">\n",
       "  <thead>\n",
       "    <tr style=\"text-align: right;\">\n",
       "      <th></th>\n",
       "      <th>Classifier</th>\n",
       "      <th>Accuracy</th>\n",
       "      <th>AUC</th>\n",
       "    </tr>\n",
       "  </thead>\n",
       "  <tbody>\n",
       "    <tr>\n",
       "      <td>0</td>\n",
       "      <td>LGBMClassifier</td>\n",
       "      <td>93.239928</td>\n",
       "      <td>0.901132</td>\n",
       "    </tr>\n",
       "    <tr>\n",
       "      <td>0</td>\n",
       "      <td>XGBClassifier</td>\n",
       "      <td>93.103636</td>\n",
       "      <td>0.895888</td>\n",
       "    </tr>\n",
       "  </tbody>\n",
       "</table>\n",
       "</div>"
      ],
      "text/plain": [
       "       Classifier   Accuracy       AUC\n",
       "0  LGBMClassifier  93.239928  0.901132\n",
       "0   XGBClassifier  93.103636  0.895888"
      ]
     },
     "execution_count": 281,
     "metadata": {},
     "output_type": "execute_result"
    }
   ],
   "source": [
    "%%time\n",
    "classifiers = [LGBMClassifier(), \n",
    "               XGBClassifier()]\n",
    "log_cols=[\"Classifier\", \"Accuracy\",\"AUC\"]\n",
    "result = pd.DataFrame(columns=log_cols)\n",
    "for clf in classifiers:\n",
    "    clf.fit(X_train, y_train)\n",
    "    name = clf.__class__.__name__\n",
    "    pred = clf.predict(X_test)\n",
    "    acc = accuracy_score(y_test, pred)\n",
    "    prob = clf.predict_proba(X_test)[:,1]\n",
    "    auc = roc_auc_score(y_test, prob)\n",
    "    log_entry = pd.DataFrame([[name, acc*100, auc]],columns=log_cols)\n",
    "    result = result.append(log_entry)\n",
    "result"
   ]
  },
  {
   "cell_type": "markdown",
   "metadata": {},
   "source": [
    "## Final Prediction"
   ]
  },
  {
   "cell_type": "code",
   "execution_count": 240,
   "metadata": {},
   "outputs": [],
   "source": [
    "classifiers = [LGBMClassifier()]\n",
    "for clf in classifiers:\n",
    "    clf.fit(X_train, y_train)\n",
    "    pred = clf.predict(X_test)\n",
    "    prob = clf.predict_proba(X_test)[:,1]\n",
    "encounter_id = pd.DataFrame(test['encounter_id'])\n",
    "prob1 = pd.DataFrame(prob).rename(columns = {0: 'hospital_death'})\n",
    "output = pd.concat([encounter_id,prob1], axis=1, sort=False)\n",
    "output.to_csv('DSDJ1.5.csv', header=True, index=False)"
   ]
  },
  {
   "cell_type": "markdown",
   "metadata": {},
   "source": [
    "## Cross Validation"
   ]
  },
  {
   "cell_type": "code",
   "execution_count": 250,
   "metadata": {},
   "outputs": [
    {
     "data": {
      "image/png": "[encoded data removed]",
      "text/plain": [
       "<Figure size 432x288 with 1 Axes>"
      ]
     },
     "metadata": {
      "needs_background": "light"
     },
     "output_type": "display_data"
    }
   ],
   "source": [
    "#Cross validation\n",
    "models = []\n",
    "models.append(('LGBMC', LGBMClassifier()))\n",
    "models.append(('XGB', XGBClassifier()))\n",
    "\n",
    "# evaluate each model in turn\n",
    "results = []\n",
    "names = []\n",
    "scoring = 'accuracy'\n",
    "for name, model in models:\n",
    "    kfold = model_selection.KFold(n_splits=10, random_state=random_state)\n",
    "    cv_results = model_selection.cross_val_score(model, X_train, y_train, cv=kfold, scoring=scoring)\n",
    "    results.append(cv_results)\n",
    "    names.append(name)\n",
    "    msg = \"%s: %f (%f)\" % (name, cv_results.mean(), cv_results.std())\n",
    "    (msg)\n",
    "# boxplot algorithm comparison\n",
    "fig = plt.figure()\n",
    "ax = fig.add_subplot(111)\n",
    "plt.boxplot(results)\n",
    "ax.set_xticklabels(names)\n",
    "plt.show()"
   ]
  },
  {
   "cell_type": "markdown",
   "metadata": {},
   "source": [
    "## Model Tuning"
   ]
  },
  {
   "cell_type": "code",
   "execution_count": 272,
   "metadata": {},
   "outputs": [
    {
     "name": "stdout",
     "output_type": "stream",
     "text": [
      "{'boosting_type': 'gbdt', 'colsample_bytree': 0.65, 'learning_rate': 0.005, 'n_estimators': 40, 'num_leaves': 6, 'objective': 'binary', 'random_state': 501, 'reg_alpha': 1, 'reg_lambda': 1, 'subsample': 0.7}\n",
      "0.9136981671963669\n"
     ]
    }
   ],
   "source": [
    "%%time\n",
    "params = {'boosting_type': 'gbdt',\n",
    "          'max_depth' : -1,\n",
    "          'objective': 'binary',\n",
    "          'nthread': 3, # Updated from nthread\n",
    "          'num_leaves': 64,\n",
    "          'learning_rate': 0.05,\n",
    "          'max_bin': 512,\n",
    "          'subsample_for_bin': 200,\n",
    "          'subsample': 1,\n",
    "          'subsample_freq': 1,\n",
    "          'colsample_bytree': 0.8,\n",
    "          'reg_alpha': 5,\n",
    "          'reg_lambda': 10,\n",
    "          'min_split_gain': 0.5,\n",
    "          'min_child_weight': 1,\n",
    "          'min_child_samples': 5,\n",
    "          'scale_pos_weight': 1,\n",
    "          'num_class' : 1,\n",
    "          'metric' : 'binary_error'} \n",
    "# Create parameters to search\n",
    "gridParams = {\n",
    "    'learning_rate': [0.005],\n",
    "    'n_estimators': [40],\n",
    "    'num_leaves': [6,8,12,16],\n",
    "    'boosting_type' : ['gbdt'],\n",
    "    'objective' : ['binary'],\n",
    "    'random_state' : [501],\n",
    "    'colsample_bytree' : [0.65, 0.66],\n",
    "    'subsample' : [0.7,0.75],\n",
    "    'reg_alpha' : [1,1.2],\n",
    "    'reg_lambda' : [1,1.2,1.4],\n",
    "    }\n",
    "mdl = LGBMClassifier(boosting_type= 'gbdt',\n",
    "          objective = 'binary',\n",
    "          n_jobs = 3,\n",
    "          silent = True,\n",
    "          max_depth = params['max_depth'],\n",
    "          max_bin = params['max_bin'],\n",
    "          subsample_for_bin = params['subsample_for_bin'],\n",
    "          subsample = params['subsample'],\n",
    "          subsample_freq = params['subsample_freq'],\n",
    "          min_split_gain = params['min_split_gain'],\n",
    "          min_child_weight = params['min_child_weight'],\n",
    "          min_child_samples = params['min_child_samples'],\n",
    "          scale_pos_weight = params['scale_pos_weight'])\n",
    "# To view the default model params:\n",
    "mdl.get_params().keys()\n",
    "\n",
    "# Create the grid\n",
    "grid = GridSearchCV(mdl, gridParams,\n",
    "                    verbose=0,\n",
    "                    cv=4,\n",
    "                    n_jobs=2)\n",
    "# Run the grid\n",
    "grid.fit(X_train, y_train)\n",
    "\n",
    "# Print the best parameters found\n",
    "print(grid.best_params_)\n",
    "print(grid.best_score_)"
   ]
  },
  {
   "cell_type": "markdown",
   "metadata": {},
   "source": [
    "## Final Model after tuning "
   ]
  },
  {
   "cell_type": "code",
   "execution_count": null,
   "metadata": {},
   "outputs": [],
   "source": [
    "%%time\n",
    "classifiers = [LGBMClassifier(boosting_type='gbdt',\n",
    "                              colsample_bytree=0.65, \n",
    "                              learning_rate=0.005, \n",
    "                              n_estimators = 40,\n",
    "                              num_leaves=6, \n",
    "                              objective='binary', \n",
    "                              random_state=501, \n",
    "                              reg_alpha=1, \n",
    "                              reg_lambda=1, \n",
    "                              subsample=0.7), \n",
    "               XGBClassifier()]\n",
    "log_cols=[\"Classifier\", \"Accuracy\",\"AUC\"]\n",
    "result = pd.DataFrame(columns=log_cols)\n",
    "for clf in classifiers:\n",
    "    clf.fit(X_train, y_train)\n",
    "    name = clf.__class__.__name__\n",
    "    pred = clf.predict(X_test)\n",
    "    acc = accuracy_score(y_test, pred)\n",
    "    prob = clf.predict_proba(X_test)[:,1]\n",
    "    auc = roc_auc_score(y_test, prob)\n",
    "    log_entry = pd.DataFrame([[name, acc*100, auc]],columns=log_cols)\n",
    "    result = result.append(log_entry)\n",
    "result"
   ]
  }
 ],
 "metadata": {
  "kernelspec": {
   "display_name": "Python 3",
   "language": "python",
   "name": "python3"
  },
  "language_info": {
   "codemirror_mode": {
    "name": "ipython",
    "version": 3
   },
   "file_extension": ".py",
   "mimetype": "text/x-python",
   "name": "python",
   "nbconvert_exporter": "python",
   "pygments_lexer": "ipython3",
   "version": "3.7.4"
  }
 },
 "nbformat": 4,
 "nbformat_minor": 2
}
